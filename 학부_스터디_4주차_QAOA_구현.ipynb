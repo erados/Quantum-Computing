{
  "nbformat": 4,
  "nbformat_minor": 0,
  "metadata": {
    "colab": {
      "name": "학부 스터디 4주차 QAOA 구현",
      "provenance": [],
      "collapsed_sections": []
    },
    "kernelspec": {
      "name": "python3",
      "display_name": "Python 3"
    }
  },
  "cells": [
    {
      "cell_type": "code",
      "metadata": {
        "id": "07GyCQQYVciV"
      },
      "source": [
        "pip install qiskit # qiskit 설치"
      ],
      "execution_count": null,
      "outputs": []
    },
    {
      "cell_type": "code",
      "metadata": {
        "id": "1HRbKnkaXbp3"
      },
      "source": [
        "import numpy as np  # 수학 라이브러리\r\n",
        "import networkx as nx # 그래프 시각화 라이브러리\r\n",
        "\r\n",
        "from qiskit import BasicAer # Aer 의 simulator 를 가져오기 위함.\r\n",
        "from qiskit.optimization.applications.ising import max_cut  # max_cut 회로를 만들기 위한 class\r\n",
        "from qiskit.optimization.applications.ising.common import random_graph, sample_most_likely  # 그래프를 만드는 함수, 가장 많이 나온 sample 를 반환하는 함수"
      ],
      "execution_count": null,
      "outputs": []
    },
    {
      "cell_type": "code",
      "metadata": {
        "id": "HHfK-qMrXbxW",
        "colab": {
          "base_uri": "https://localhost:8080/"
        },
        "outputId": "72b08bd4-fc4f-46f3-dbde-543aefdf24c0"
      },
      "source": [
        "num_nodes = 5  # 노드 수\r\n",
        "w = random_graph(num_nodes, edge_prob=0.5, weight_range=2, negative_weight=False, seed=48)  # 간선이 생길 확률 0.5, 가중치{0, 1} 로 랜덤 그래프 생성한다. (가중치는 max_cut.max_cut_value 에서 boolean 으로 변환됨)\r\n",
        "print(w)  # 그래프의 가중치 행렬을 출력한다."
      ],
      "execution_count": null,
      "outputs": [
        {
          "output_type": "stream",
          "text": [
            "[[0. 1. 0. 0. 0.]\n",
            " [1. 0. 0. 0. 0.]\n",
            " [0. 0. 0. 0. 1.]\n",
            " [0. 0. 0. 0. 1.]\n",
            " [0. 0. 1. 1. 0.]]\n"
          ],
          "name": "stdout"
        }
      ]
    },
    {
      "cell_type": "code",
      "metadata": {
        "id": "SWhmcnGHXb2A",
        "colab": {
          "base_uri": "https://localhost:8080/",
          "height": 248
        },
        "outputId": "3d0c7258-690b-4384-e625-8c9cc1616232"
      },
      "source": [
        "G = nx.from_numpy_matrix(w) # 그래프 객체를 생성한다.\r\n",
        "layout = nx.shell_layout(G) # Shell layout 을 사용한다.\r\n",
        "nx.draw_networkx(G, layout) # 그래프를 그린다."
      ],
      "execution_count": null,
      "outputs": [
        {
          "output_type": "display_data",
          "data": {
            "image/png": "[encoded data removed]",
            "text/plain": [
              "<Figure size 432x288 with 1 Axes>"
            ]
          },
          "metadata": {
            "tags": []
          }
        }
      ]
    },
    {
      "cell_type": "code",
      "metadata": {
        "id": "mPcC0DPYzSKW",
        "colab": {
          "base_uri": "https://localhost:8080/"
        },
        "outputId": "77bd056b-b1f0-4240-9ae5-1ecebf195a91"
      },
      "source": [
        "def job_callback(job_id, job_status, queue_position, job): # QAOA 알고리즘을 실행할 때 job 의 status 를 알려주는 함수\r\n",
        "    print(job_id)\r\n",
        "    print(job_status)\r\n",
        "\r\n",
        "\r\n",
        "def index_to_selection(i, num_nodes): # index 를 받아 2진수 np.array 로 변환하는 함수\r\n",
        "    s = \"{0:b}\".format(i).rjust(num_nodes)\r\n",
        "    x = np.array([1 if s[i]=='1' else 0 for i in reversed(range(num_nodes))])\r\n",
        "    return x\r\n",
        "\r\n",
        "    \r\n",
        "def print_result(result): # QAOA 의 결과를 Value, String, 확률 순으로 모두 출력하는 함수\r\n",
        "    selection = sample_most_likely(result.eigenstate)\r\n",
        "    print(selection)\r\n",
        "    value = max_cut.max_cut_value(selection, w)\r\n",
        "    print('Optimal: selection {}, value {:.4f}'.format(selection, value))\r\n",
        "\r\n",
        "    cnts = sum(result.eigenstate.values())\r\n",
        "    probabilities = [i / cnts for i in result.eigenstate.values()]\r\n",
        "    strings = [i for i in result.eigenstate ]\r\n",
        "    dic = dict(zip(probabilities, strings))\r\n",
        "    i_sorted = {k: v for k, v in sorted(dic.items(), key=lambda item: item[0], reverse=True)}\r\n",
        "    print('\\n----------------- Full result ---------------------')\r\n",
        "    print('selection\\tvalue\\t\\tprobability')\r\n",
        "    print('---------------------------------------------------')\r\n",
        "    for k in i_sorted:\r\n",
        "        i_sorted[k]\r\n",
        "        print('%10s\\t%.4f\\t\\t%.4f' %(i_sorted[k], max_cut.max_cut_value(np.array([int(i) for i in i_sorted[k]]), w), k))\r\n",
        "\r\n",
        "\r\n",
        "def brute_force():  # 모든 경우의 수에 대해 max_cut.max_cut_value 을 구하여 MaxCut String/Value 를 구하는 함수\r\n",
        "    def bitfield(n, L): # L bits 로 만들 수 있는 string 들에서, n 번째 bit string 을 구하는 함수\r\n",
        "        result = np.binary_repr(n, L) # n 을 2진수로 반환한다.\r\n",
        "        return [int(digit) for digit in result] # 2진수를 int 리스트로 변환한다. \r\n",
        "    L = num_nodes # 노드 수\r\n",
        "    max = 2**L # 2진수의 상한\r\n",
        "    maximum_v = 0 # MaxCut value 변수\r\n",
        "    string = [0 for i in range(num_nodes)] # string 을 binary '0' 으로 초기화\r\n",
        "    for i in range(max): # 모든 경우에 수에 대한 반복문 시작\r\n",
        "        cur = bitfield(i, L) # bit string 변수\r\n",
        "        cur_v = max_cut.max_cut_value(np.array(cur), w) # 해당 bit string 에 대한 MaxCut value 계산\r\n",
        "        \r\n",
        "        if maximum_v < cur_v: # 최댓값이 갱신되면\r\n",
        "            maximum_v = cur_v # MaxCut value 을 갱신\r\n",
        "            string = cur  # MaxCut string 을 갱신\r\n",
        "\r\n",
        "    return maximum_v , string # MaxCut String/Value 를 반환\r\n",
        "\r\n",
        "sol = brute_force() # brute-force 를 사용한 MaxCut 의 해를 저장\r\n",
        "print(f'Objective value computed by the brute-force method is {sol}') # # brute-force 를 사용한 MaxCut 의 해를 출력\r\n"
      ],
      "execution_count": null,
      "outputs": [
        {
          "output_type": "stream",
          "text": [
            "Objective value computed by the brute-force method is (3.0, [0, 1, 0, 0, 1])\n"
          ],
          "name": "stdout"
        }
      ]
    },
    {
      "cell_type": "code",
      "metadata": {
        "id": "MxmFUIRyXmht",
        "colab": {
          "base_uri": "https://localhost:8080/"
        },
        "outputId": "b0ea34ef-18e0-4181-a165-0dfb99f9e66e"
      },
      "source": [
        "from qiskit import IBMQ\r\n",
        "from qiskit.aqua import QuantumInstance\r\n",
        "from qiskit.aqua.algorithms import QAOA\r\n",
        "from qiskit.aqua.components.optimizers import NELDER_MEAD, COBYLA, SPSA, CG\r\n",
        "from qiskit.providers.ibmq import least_busy\r\n",
        "\r\n",
        "IBMQ.save_account('b79e58b4c2d0407d6dbea211073fa0e77fa1a6f23d064e824fa8a2086360f560932ffaa034f37896d68720582f4cbf85560ba4e13a0870bfb60fce30bd2b3685', overwrite=True) # 양자 프로세서를 사용하기위한 토큰을 저장\r\n",
        "provider = IBMQ.load_account() # 저장한 토큰으로 IBM Quantum-experience 에 접속\r\n",
        "matched_devices = provider.backends(filters=lambda x: x.configuration().n_qubits >= num_nodes and not x.configuration().simulator) # 그래프의 노드 수 이상의 큐빗을 가지고 있는 Backend Device 를 선택\r\n",
        "backend = least_busy(matched_devices) # 그 중에서 가장 queue 가 짧은 device 를 backend 로 선택\r\n",
        "print(backend) # 선택된 backend 이름을 출력\r\n",
        "\r\n",
        "# backend = BasicAer.get_backend('statevector_simulator') # 양자 시뮬레이터를 backend 로 선택\r\n",
        "\r\n",
        "# optimizer = NELDER_MEAD() # Nelder-Mead 알고리즘으로 parameter 를 최적화\r\n",
        "optimizer = COBYLA(maxiter=5) # COBYLA 알고리즘으로 parameter 를 'maxiter' 번 최적화\r\n",
        "\r\n",
        "quantum_instance = QuantumInstance(backend=backend, job_callback=job_callback, shots=2048) # backend 와 job 콜백함수와 샷 횟수를 지정\r\n",
        "\r\n",
        "qubit_op = max_cut.get_operator(w)[0]  # 가중치 행렬에서 해밀토니안을 반환\r\n",
        "qaoa = QAOA(qubit_op, optimizer, quantum_instance=quantum_instance, p = 1) # QAOA 객체를 생성, depth = p\r\n",
        "\r\n",
        "result = qaoa.run() # QAOA 를 실행\r\n",
        "\r\n",
        "x = sample_most_likely(result.eigenstate) # 가장 많이 나온 Bit string 을 선택\r\n",
        "\r\n",
        "print(f'Objective string and value computed by QAOA is {x}, {max_cut.max_cut_value(x, w)}')"
      ],
      "execution_count": null,
      "outputs": [
        {
          "output_type": "stream",
          "text": [
            "/usr/local/lib/python3.6/dist-packages/qiskit/providers/ibmq/ibmqfactory.py:192: UserWarning: Timestamps in IBMQ backend properties, jobs, and job results are all now in local time instead of UTC.\n",
            "  warnings.warn('Timestamps in IBMQ backend properties, jobs, and job results '\n",
            "ibmqfactory.load_account:WARNING:2020-12-20 14:03:40,744: Credentials are already in use. The existing account in the session will be replaced.\n"
          ],
          "name": "stderr"
        },
        {
          "output_type": "stream",
          "text": [
            "ibmq_ourense\n",
            "5fdf59c6a9c299001b472894\n",
            "JobStatus.VALIDATING\n",
            "5fdf59c6a9c299001b472894\n",
            "JobStatus.QUEUED\n",
            "5fdf59c6a9c299001b472894\n",
            "JobStatus.RUNNING\n",
            "5fdf59c6a9c299001b472894\n",
            "JobStatus.DONE\n",
            "5fdf59d82b19e90019e3c81c\n",
            "JobStatus.VALIDATING\n",
            "5fdf59d82b19e90019e3c81c\n",
            "JobStatus.QUEUED\n",
            "5fdf59d82b19e90019e3c81c\n",
            "JobStatus.QUEUED\n",
            "5fdf59d82b19e90019e3c81c\n",
            "JobStatus.QUEUED\n",
            "5fdf59d82b19e90019e3c81c\n",
            "JobStatus.RUNNING\n",
            "5fdf59d82b19e90019e3c81c\n",
            "JobStatus.RUNNING\n",
            "5fdf59d82b19e90019e3c81c\n",
            "JobStatus.DONE\n",
            "5fdf59fabc83a80019ae7210\n",
            "JobStatus.VALIDATING\n",
            "5fdf59fabc83a80019ae7210\n",
            "JobStatus.QUEUED\n",
            "5fdf59fabc83a80019ae7210\n",
            "JobStatus.QUEUED\n",
            "5fdf59fabc83a80019ae7210\n",
            "JobStatus.RUNNING\n",
            "5fdf59fabc83a80019ae7210\n",
            "JobStatus.RUNNING\n",
            "5fdf59fabc83a80019ae7210\n",
            "JobStatus.DONE\n",
            "5fdf5a17bc83a80019ae7213\n",
            "JobStatus.VALIDATING\n",
            "5fdf5a17bc83a80019ae7213\n",
            "JobStatus.QUEUED\n",
            "5fdf5a17bc83a80019ae7213\n",
            "JobStatus.RUNNING\n",
            "5fdf5a17bc83a80019ae7213\n",
            "JobStatus.RUNNING\n",
            "5fdf5a17bc83a80019ae7213\n",
            "JobStatus.DONE\n",
            "5fdf5a2ed521d8001a48d6a3\n",
            "JobStatus.VALIDATING\n",
            "5fdf5a2ed521d8001a48d6a3\n",
            "JobStatus.QUEUED\n",
            "5fdf5a2ed521d8001a48d6a3\n",
            "JobStatus.QUEUED\n",
            "5fdf5a2ed521d8001a48d6a3\n",
            "JobStatus.QUEUED\n",
            "5fdf5a2ed521d8001a48d6a3\n",
            "JobStatus.RUNNING\n",
            "5fdf5a2ed521d8001a48d6a3\n",
            "JobStatus.DONE\n",
            "5fdf5a4b540cbd00192cbe84\n",
            "JobStatus.VALIDATING\n",
            "5fdf5a4b540cbd00192cbe84\n",
            "JobStatus.QUEUED\n",
            "5fdf5a4b540cbd00192cbe84\n",
            "JobStatus.RUNNING\n",
            "5fdf5a4b540cbd00192cbe84\n",
            "JobStatus.RUNNING\n",
            "5fdf5a4b540cbd00192cbe84\n",
            "JobStatus.DONE\n",
            "Objective string and value computed by QAOA is [1 0 0 0 1], 3.0\n"
          ],
          "name": "stdout"
        }
      ]
    },
    {
      "cell_type": "code",
      "metadata": {
        "colab": {
          "base_uri": "https://localhost:8080/"
        },
        "id": "dwjTuFn718c5",
        "outputId": "61c538de-963a-401e-dfae-376692945497"
      },
      "source": [
        "print_result(result) # 모든 결과를 출력"
      ],
      "execution_count": null,
      "outputs": [
        {
          "output_type": "stream",
          "text": [
            "[1 0 0 0 1]\n",
            "Optimal: selection [1 0 0 0 1], value 3.0000\n",
            "\n",
            "----------------- Full result ---------------------\n",
            "selection\tvalue\t\tprobability\n",
            "---------------------------------------------------\n",
            "     10001\t3.0000\t\t0.1094\n",
            "     01101\t2.0000\t\t0.1074\n",
            "     01110\t3.0000\t\t0.0942\n",
            "     10010\t2.0000\t\t0.0869\n",
            "     10011\t2.0000\t\t0.0586\n",
            "     01111\t1.0000\t\t0.0527\n",
            "     00001\t2.0000\t\t0.0376\n",
            "     00010\t1.0000\t\t0.0361\n",
            "     00101\t1.0000\t\t0.0322\n",
            "     11110\t2.0000\t\t0.0308\n",
            "     11101\t1.0000\t\t0.0288\n",
            "     11001\t2.0000\t\t0.0273\n",
            "     01100\t2.0000\t\t0.0254\n",
            "     10101\t2.0000\t\t0.0225\n",
            "     00110\t2.0000\t\t0.0220\n",
            "     11011\t1.0000\t\t0.0205\n",
            "     10000\t1.0000\t\t0.0200\n",
            "     10110\t3.0000\t\t0.0195\n",
            "     01001\t3.0000\t\t0.0190\n",
            "     11111\t0.0000\t\t0.0151\n",
            "     01010\t2.0000\t\t0.0137\n",
            "     00111\t0.0000\t\t0.0117\n",
            "     11100\t1.0000\t\t0.0112\n",
            "     00100\t1.0000\t\t0.0103\n",
            "     01011\t2.0000\t\t0.0098\n",
            "     10100\t2.0000\t\t0.0073\n",
            "     00000\t0.0000\t\t0.0068\n",
            "     11000\t0.0000\t\t0.0063\n",
            "     01000\t1.0000\t\t0.0039\n"
          ],
          "name": "stdout"
        }
      ]
    }
  ]
}